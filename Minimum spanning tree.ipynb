{
 "cells": [
  {
   "cell_type": "code",
   "execution_count": 1,
   "id": "9a031546",
   "metadata": {},
   "outputs": [
    {
     "name": "stdout",
     "output_type": "stream",
     "text": [
      "Enter number of nodes: 5\n",
      "Enter name of node 1: 0\n",
      "Enter neighbor of 0 (or type 'done' to finish): 2\n",
      "Enter weight of edge between 0 and 2: 2\n",
      "Enter neighbor of 0 (or type 'done' to finish): 1\n",
      "Enter weight of edge between 0 and 1: 4\n",
      "Enter neighbor of 0 (or type 'done' to finish): done\n",
      "Enter name of node 2: 2\n",
      "Enter neighbor of 2 (or type 'done' to finish): 3\n",
      "Enter weight of edge between 2 and 3: 3\n",
      "Enter neighbor of 2 (or type 'done' to finish): 1\n",
      "Enter weight of edge between 2 and 1: 1\n",
      "Enter neighbor of 2 (or type 'done' to finish): done\n",
      "Enter name of node 3: 1\n",
      "Enter neighbor of 1 (or type 'done' to finish): 3\n",
      "Enter weight of edge between 1 and 3: 1\n",
      "Enter neighbor of 1 (or type 'done' to finish): 4\n",
      "Enter weight of edge between 1 and 4: 5\n",
      "Enter neighbor of 1 (or type 'done' to finish): done\n",
      "Enter name of node 4: 3\n",
      "Enter neighbor of 3 (or type 'done' to finish): 4\n",
      "Enter weight of edge between 3 and 4: 1\n",
      "Enter neighbor of 3 (or type 'done' to finish): done\n",
      "Enter name of node 5: 4\n",
      "Enter neighbor of 4 (or type 'done' to finish): done\n",
      "Enter starting node: 0\n",
      "MST cost: 5\n",
      "MST edges:\n",
      "0 --2-- 2\n",
      "2 --1-- 1\n",
      "1 --1-- 3\n",
      "3 --1-- 4\n"
     ]
    }
   ],
   "source": [
    "import heapq\n",
    "\n",
    "def prim(graph, start):\n",
    "    visited = {start}\n",
    "    edges = [(cost, start, neighbor) for neighbor, cost in graph[start].items()]\n",
    "    heapq.heapify(edges)\n",
    "    mst_cost = 0\n",
    "    mst_edges = []\n",
    "\n",
    "    while edges:\n",
    "        cost, u, v = heapq.heappop(edges)\n",
    "        if v in visited:\n",
    "            continue\n",
    "        visited.add(v)\n",
    "        mst_cost += cost\n",
    "        mst_edges.append((u, v, cost))\n",
    "\n",
    "        for neighbor, cost in graph[v].items():\n",
    "            if neighbor not in visited:\n",
    "                heapq.heappush(edges, (cost, v, neighbor))\n",
    "\n",
    "    return mst_cost, mst_edges\n",
    "\n",
    "# Example usage\n",
    "graph = {}\n",
    "\n",
    "n = int(input(\"Enter number of nodes: \"))\n",
    "\n",
    "for i in range(n):\n",
    "    node = input(f\"Enter name of node {i+1}: \")\n",
    "    edges = {}\n",
    "    while True:\n",
    "        neighbor = input(f\"Enter neighbor of {node} (or type 'done' to finish): \")\n",
    "        if neighbor == 'done':\n",
    "            break\n",
    "        weight = int(input(f\"Enter weight of edge between {node} and {neighbor}: \"))\n",
    "        edges[neighbor] = weight\n",
    "    graph[node] = edges\n",
    "\n",
    "start = input(\"Enter starting node: \")\n",
    "mst_cost, mst_edges = prim(graph, start)\n",
    "\n",
    "print(f\"MST cost: {mst_cost}\")\n",
    "print(\"MST edges:\")\n",
    "for u, v, cost in mst_edges:\n",
    "    print(f\"{u} --{cost}-- {v}\")\n",
    "\n"
   ]
  },
  {
   "cell_type": "code",
   "execution_count": null,
   "id": "61fb7ba7",
   "metadata": {},
   "outputs": [],
   "source": []
  }
 ],
 "metadata": {
  "kernelspec": {
   "display_name": "Python 3 (ipykernel)",
   "language": "python",
   "name": "python3"
  },
  "language_info": {
   "codemirror_mode": {
    "name": "ipython",
    "version": 3
   },
   "file_extension": ".py",
   "mimetype": "text/x-python",
   "name": "python",
   "nbconvert_exporter": "python",
   "pygments_lexer": "ipython3",
   "version": "3.11.0"
  }
 },
 "nbformat": 4,
 "nbformat_minor": 5
}
