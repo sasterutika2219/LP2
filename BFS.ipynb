{
 "cells": [
  {
   "cell_type": "code",
   "execution_count": 1,
   "id": "19a6d4c5",
   "metadata": {},
   "outputs": [
    {
     "name": "stdout",
     "output_type": "stream",
     "text": [
      "Enter the first vertex of the edge (or 'q' to quit): 0\n",
      "Enter the second vertex of the edge: 1\n",
      "Enter the first vertex of the edge (or 'q' to quit): 0\n",
      "Enter the second vertex of the edge: 2\n",
      "Enter the first vertex of the edge (or 'q' to quit): 1\n",
      "Enter the second vertex of the edge: 3\n",
      "Enter the first vertex of the edge (or 'q' to quit): 2\n",
      "Enter the second vertex of the edge: 4\n",
      "Enter the first vertex of the edge (or 'q' to quit): 3\n",
      "Enter the second vertex of the edge: 4\n",
      "Enter the first vertex of the edge (or 'q' to quit): q\n",
      "Enter the starting vertex for BFS traversal: 0\n",
      "BFS traversal starting from vertex 0\n",
      "0 1 2 3 4 "
     ]
    }
   ],
   "source": [
    "from collections import deque\n",
    "\n",
    "# Graph class to represent the undirected graph\n",
    "class Graph:\n",
    "    def __init__(self):\n",
    "        self.graph = {}\n",
    "\n",
    "    def add_edge(self, u, v):\n",
    "        if u not in self.graph:\n",
    "            self.graph[u] = []\n",
    "        if v not in self.graph:\n",
    "            self.graph[v] = []\n",
    "        self.graph[u].append(v)\n",
    "        self.graph[v].append(u)\n",
    "\n",
    "    def bfs_recursive(self, start_vertex):\n",
    "        visited = set()\n",
    "        queue = deque()\n",
    "        queue.append(start_vertex)\n",
    "        visited.add(start_vertex)\n",
    "\n",
    "        self._bfs_recursive_helper(queue, visited)\n",
    "\n",
    "    def _bfs_recursive_helper(self, queue, visited):\n",
    "        if not queue:\n",
    "            return\n",
    "\n",
    "        vertex = queue.popleft()\n",
    "        print(vertex, end=' ')\n",
    "\n",
    "        for neighbor in self.graph[vertex]:\n",
    "            if neighbor not in visited:\n",
    "                queue.append(neighbor)\n",
    "                visited.add(neighbor)\n",
    "\n",
    "        self._bfs_recursive_helper(queue, visited)\n",
    "\n",
    "\n",
    "# Create a graph based on user input\n",
    "g = Graph()\n",
    "\n",
    "while True:\n",
    "    u = input(\"Enter the first vertex of the edge (or 'q' to quit): \")\n",
    "    if u == 'q':\n",
    "        break\n",
    "    v = input(\"Enter the second vertex of the edge: \")\n",
    "    g.add_edge(int(u), int(v))\n",
    "\n",
    "start_vertex = int(input(\"Enter the starting vertex for BFS traversal: \"))\n",
    "\n",
    "# Perform BFS traversal\n",
    "print(\"BFS traversal starting from vertex\", start_vertex)\n",
    "g.bfs_recursive(start_vertex)\n"
   ]
  },
  {
   "cell_type": "code",
   "execution_count": null,
   "id": "15b2f079",
   "metadata": {},
   "outputs": [],
   "source": []
  }
 ],
 "metadata": {
  "kernelspec": {
   "display_name": "Python 3 (ipykernel)",
   "language": "python",
   "name": "python3"
  },
  "language_info": {
   "codemirror_mode": {
    "name": "ipython",
    "version": 3
   },
   "file_extension": ".py",
   "mimetype": "text/x-python",
   "name": "python",
   "nbconvert_exporter": "python",
   "pygments_lexer": "ipython3",
   "version": "3.11.0"
  }
 },
 "nbformat": 4,
 "nbformat_minor": 5
}
