{
 "cells": [
  {
   "cell_type": "code",
   "execution_count": null,
   "id": "e6c484bd",
   "metadata": {},
   "outputs": [],
   "source": [
    "# Graph class to represent the undirected graph\n",
    "class Graph:\n",
    "    def __init__(self):\n",
    "        self.graph = {}\n",
    "\n",
    "    def add_edge(self, u, v):\n",
    "        if u not in self.graph:\n",
    "            self.graph[u] = []\n",
    "        if v not in self.graph:\n",
    "            self.graph[v] = []\n",
    "        self.graph[u].append(v)\n",
    "        self.graph[v].append(u)\n",
    "\n",
    "    def dfs(self, start_vertex):\n",
    "        visited = set()  # Set to keep track of visited vertices\n",
    "        self._dfs_recursive(start_vertex, visited)\n",
    "\n",
    "    def _dfs_recursive(self, vertex, visited):\n",
    "        visited.add(vertex)\n",
    "        print(vertex, end=' ')  # Process the vertex (in this case, print it)\n",
    "\n",
    "        # Recur for all the adjacent vertices that haven't been visited yet\n",
    "        for neighbor in self.graph[vertex]:\n",
    "            if neighbor not in visited:\n",
    "                self._dfs_recursive(neighbor, visited)\n",
    "\n",
    "\n",
    "# Create a graph based on user input\n",
    "g = Graph()\n",
    "\n",
    "while True:\n",
    "    u = input(\"Enter the first vertex of the edge (or 'q' to quit): \")\n",
    "    if u == 'q':\n",
    "        break\n",
    "    v = input(\"Enter the second vertex of the edge: \")\n",
    "    g.add_edge(int(u), int(v))\n",
    "\n",
    "start_vertex = int(input(\"Enter the starting vertex for DFS traversal: \"))\n",
    "\n",
    "# Perform DFS traversal\n",
    "print(\"DFS traversal starting from vertex\", start_vertex)\n",
    "g.dfs(start_vertex)\n"
   ]
  },
  {
   "cell_type": "code",
   "execution_count": null,
   "id": "6472467e",
   "metadata": {},
   "outputs": [],
   "source": []
  },
  {
   "cell_type": "code",
   "execution_count": null,
   "id": "0c75922d",
   "metadata": {},
   "outputs": [],
   "source": []
  }
 ],
 "metadata": {
  "kernelspec": {
   "display_name": "Python 3 (ipykernel)",
   "language": "python",
   "name": "python3"
  },
  "language_info": {
   "codemirror_mode": {
    "name": "ipython",
    "version": 3
   },
   "file_extension": ".py",
   "mimetype": "text/x-python",
   "name": "python",
   "nbconvert_exporter": "python",
   "pygments_lexer": "ipython3",
   "version": "3.11.0"
  }
 },
 "nbformat": 4,
 "nbformat_minor": 5
}
