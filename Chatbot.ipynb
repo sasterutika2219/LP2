{
 "cells": [
  {
   "cell_type": "code",
   "execution_count": 1,
   "id": "16a7410a",
   "metadata": {},
   "outputs": [
    {
     "name": "stdout",
     "output_type": "stream",
     "text": [
      "Chatbot: Hi, welcome to our food ordering service! How can I assist you today?\n",
      "User: Hello\n",
      "Chatbot: I'm sorry, I couldn't understand your request. Could you please rephrase it?\n",
      "User: Tell me about Menu\n",
      "Chatbot: I'm sorry, I couldn't understand your request. Could you please rephrase it?\n",
      "User: Tell me about menu.\n",
      "Chatbot: Sure, here is our menu: [list of menu items]\n",
      "User: place my order please\n",
      "Chatbot: Great! Please provide me with your order details.\n",
      "User: Tell me about delivery charges\n",
      "Chatbot: We offer free delivery within the city. Your order will arrive within 30 minutes.\n",
      "User: how i can payment you\n",
      "Chatbot: We accept cash on delivery or online payment. How would you like to pay?\n",
      "User: bye\n",
      "Chatbot: Thank you for using our service. Have a great day!\n"
     ]
    }
   ],
   "source": [
    "# Define a function to handle user input and generate responses\n",
    "def chatbot():\n",
    "    print(\"Chatbot: Hi, welcome to our food ordering service! How can I assist you today?\")\n",
    "    while True:\n",
    "        user_input = input(\"User: \")\n",
    "\n",
    "        # Check for exit condition\n",
    "        if user_input.lower() == \"bye\":\n",
    "            print(\"Chatbot: Thank you for using our service. Have a great day!\")\n",
    "            break\n",
    "\n",
    "        # Generate a response\n",
    "        response = generate_response(user_input)\n",
    "        print(\"Chatbot:\", response)\n",
    "\n",
    "# Define a function to generate a response based on user input\n",
    "def generate_response(user_input):\n",
    "    # Mapping of user inputs to corresponding responses\n",
    "    if \"menu\" in user_input:\n",
    "        return \"Sure, here is our menu: [list of menu items]\"\n",
    "    elif \"order\" in user_input or \"place\" in user_input:\n",
    "        return \"Great! Please provide me with your order details.\"\n",
    "    elif \"delivery\" in user_input or \"shipping\" in user_input:\n",
    "        return \"We offer free delivery within the city. Your order will arrive within 30 minutes.\"\n",
    "    elif \"payment\" in user_input or \"pay\" in user_input:\n",
    "        return \"We accept cash on delivery or online payment. How would you like to pay?\"\n",
    "    else:\n",
    "        return \"I'm sorry, I couldn't understand your request. Could you please rephrase it?\"\n",
    "\n",
    "# Start the chatbot\n",
    "chatbot()\n"
   ]
  },
  {
   "cell_type": "code",
   "execution_count": null,
   "id": "e1d3e31d",
   "metadata": {},
   "outputs": [],
   "source": []
  },
  {
   "cell_type": "code",
   "execution_count": null,
   "id": "b385d592",
   "metadata": {},
   "outputs": [],
   "source": []
  }
 ],
 "metadata": {
  "kernelspec": {
   "display_name": "Python 3 (ipykernel)",
   "language": "python",
   "name": "python3"
  },
  "language_info": {
   "codemirror_mode": {
    "name": "ipython",
    "version": 3
   },
   "file_extension": ".py",
   "mimetype": "text/x-python",
   "name": "python",
   "nbconvert_exporter": "python",
   "pygments_lexer": "ipython3",
   "version": "3.11.0"
  }
 },
 "nbformat": 4,
 "nbformat_minor": 5
}
